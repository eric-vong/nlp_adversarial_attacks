{
 "cells": [
  {
   "cell_type": "code",
   "execution_count": 1,
   "id": "ca602867-e889-4d37-9131-7d5336764e3f",
   "metadata": {
    "tags": []
   },
   "outputs": [],
   "source": [
    "from utils.functions import *\n",
    "from datasets import Dataset\n",
    "\n",
    "%load_ext autoreload\n",
    "%autoreload 2"
   ]
  },
  {
   "cell_type": "markdown",
   "id": "79f05e4e",
   "metadata": {},
   "source": [
    "### Step 1: Loading the model and data"
   ]
  },
  {
   "cell_type": "code",
   "execution_count": 2,
   "id": "88c1007f",
   "metadata": {
    "tags": []
   },
   "outputs": [
    {
     "name": "stderr",
     "output_type": "stream",
     "text": [
      "textattack: Unknown if model of class <class 'transformers.models.bert.modeling_bert.BertForSequenceClassification'> compatible with goal function <class 'textattack.goal_functions.classification.untargeted_classification.UntargetedClassification'>.\n",
      "Using custom data configuration default\n",
      "Reusing dataset ag_news (/home/onyxia/.cache/huggingface/datasets/ag_news/default/0.0.0/bc2bcb40336ace1a0374767fc29bb0296cdaf8a6da7298436239c54d79180548)\n"
     ]
    },
    {
     "data": {
      "application/vnd.jupyter.widget-view+json": {
       "model_id": "71aff63457b446fb826c31e83b03549b",
       "version_major": 2,
       "version_minor": 0
      },
      "text/plain": [
       "  0%|          | 0/2 [00:00<?, ?it/s]"
      ]
     },
     "metadata": {},
     "output_type": "display_data"
    },
    {
     "name": "stderr",
     "output_type": "stream",
     "text": [
      "textattack: Loading \u001b[94mdatasets\u001b[0m dataset \u001b[94mag_news\u001b[0m, split \u001b[94mtest\u001b[0m.\n"
     ]
    }
   ],
   "source": [
    "model = transformers.AutoModelForSequenceClassification.from_pretrained(\n",
    "    \"textattack/bert-base-uncased-ag-news\"\n",
    ")\n",
    "tokenizer = transformers.AutoTokenizer.from_pretrained(\n",
    "    \"textattack/bert-base-uncased-ag-news\"\n",
    ")\n",
    "\n",
    "model_wrapper = HuggingFaceModelWrapper(model, tokenizer)\n",
    "goal_function = UntargetedClassification(model_wrapper)\n",
    "dataset = HuggingFaceDataset(\"ag_news\", None, \"test\")"
   ]
  },
  {
   "cell_type": "markdown",
   "id": "768f71c6",
   "metadata": {},
   "source": [
    "Separating train and test data"
   ]
  },
  {
   "cell_type": "code",
   "execution_count": 3,
   "id": "84b2bd6d",
   "metadata": {
    "tags": []
   },
   "outputs": [
    {
     "name": "stderr",
     "output_type": "stream",
     "text": [
      "Using custom data configuration default\n",
      "Reusing dataset ag_news (/home/onyxia/.cache/huggingface/datasets/ag_news/default/0.0.0/bc2bcb40336ace1a0374767fc29bb0296cdaf8a6da7298436239c54d79180548)\n"
     ]
    },
    {
     "data": {
      "application/vnd.jupyter.widget-view+json": {
       "model_id": "a8cdb6c2d0e14abdad2bc55a81508a69",
       "version_major": 2,
       "version_minor": 0
      },
      "text/plain": [
       "  0%|          | 0/2 [00:00<?, ?it/s]"
      ]
     },
     "metadata": {},
     "output_type": "display_data"
    },
    {
     "name": "stderr",
     "output_type": "stream",
     "text": [
      "Loading cached shuffled indices for dataset at /home/onyxia/.cache/huggingface/datasets/ag_news/default/0.0.0/bc2bcb40336ace1a0374767fc29bb0296cdaf8a6da7298436239c54d79180548/cache-2c14abbb593f9a7d.arrow\n",
      "Loading cached shuffled indices for dataset at /home/onyxia/.cache/huggingface/datasets/ag_news/default/0.0.0/bc2bcb40336ace1a0374767fc29bb0296cdaf8a6da7298436239c54d79180548/cache-03c5e7de52806366.arrow\n"
     ]
    }
   ],
   "source": [
    "train_data, test_data = get_data(\"ag_news\")"
   ]
  },
  {
   "cell_type": "code",
   "execution_count": 42,
   "id": "d68daedf-10e5-4925-bcc3-9d7542c0761e",
   "metadata": {
    "tags": []
   },
   "outputs": [
    {
     "name": "stderr",
     "output_type": "stream",
     "text": [
      "/opt/mamba/envs/env_nlp/lib/python3.7/site-packages/pandas/core/frame.py:4308: SettingWithCopyWarning: \n",
      "A value is trying to be set on a copy of a slice from a DataFrame\n",
      "\n",
      "See the caveats in the documentation: https://pandas.pydata.org/pandas-docs/stable/user_guide/indexing.html#returning-a-view-versus-a-copy\n",
      "  errors=errors,\n"
     ]
    }
   ],
   "source": [
    "df_bae = pd.read_csv(r\"data/bae.csv\")\n",
    "df_bae[\"label\"] = df_bae.apply(\n",
    "    lambda x: 1\n",
    "    if x.result_type == \"Successful\"\n",
    "    else -1\n",
    "    if x.result_type == \"Skipped\"\n",
    "    else 0,\n",
    "    axis=1,\n",
    ")\n",
    "#df_bae[\"label\"] = df_bae.label.apply(\n",
    "#    lambda x: -1 if (x + np.random.uniform()) < 0.8 else x)\n",
    "\n",
    "test_data = df_bae[df_bae.label > -1]\n",
    "test_data.rename(columns={\"original_text\": \"text\"}, inplace=True)\n",
    "test_data = test_data[['text','label']]\n",
    "test_data = Dataset.from_pandas(test_data)"
   ]
  },
  {
   "cell_type": "markdown",
   "id": "ed40b230",
   "metadata": {},
   "source": [
    "Charging last layer outputs"
   ]
  },
  {
   "cell_type": "code",
   "execution_count": 43,
   "id": "b4d254a1-3d18-4a21-80ab-c82666ffb648",
   "metadata": {
    "tags": []
   },
   "outputs": [],
   "source": [
    "#dataset = load_dataset(\"ag_news\").shuffle(seed=0)\n",
    "train_data_loader = torch.utils.data.DataLoader(train_data, batch_size=32, shuffle=False)\n",
    "test_data_loader = torch.utils.data.DataLoader(test_data, batch_size=32, shuffle=False)"
   ]
  },
  {
   "cell_type": "code",
   "execution_count": 48,
   "id": "5799fe75-caa4-44d9-8323-12e0d26ab3aa",
   "metadata": {
    "tags": []
   },
   "outputs": [],
   "source": [
    "#last_layer, pred, softmax = run_model(test_data_loader, output_hs=True)\n",
    "#torch.save(last_layer,'last_layer')\n",
    "#torch.save(softmax,'softmax')\n",
    "last_layer, softmax = torch.load('last_layer'),torch.load('softmax')"
   ]
  },
  {
   "cell_type": "markdown",
   "id": "6af6ab81-752b-4a18-ad52-354fd195af1d",
   "metadata": {
    "jupyter": {
     "outputs_hidden": true
    },
    "tags": []
   },
   "source": [
    "Results = pd.DataFrame()\n",
    "for method in ['Softmax','Kullback-Leibler','Mahalanobis']:\n",
    "    Results[method] = get_score(last_layer,pred,softmax,method=method)"
   ]
  },
  {
   "cell_type": "markdown",
   "id": "6d584eb3-dfa2-42bf-8dfb-82ac1a708d7b",
   "metadata": {},
   "source": [
    "Mahalanobis"
   ]
  },
  {
   "cell_type": "code",
   "execution_count": 56,
   "id": "d5b9fc01-931d-4936-8093-d39bd59e8ba8",
   "metadata": {
    "tags": []
   },
   "outputs": [
    {
     "name": "stderr",
     "output_type": "stream",
     "text": [
      "100%|██████████| 100/100 [01:52<00:00,  1.13s/it]"
     ]
    },
    {
     "name": "stdout",
     "output_type": "stream",
     "text": [
      "{'tpr_at_threshold': 0.7040618955512572, 'fpr_at_threshold': 0.1999354526383734, 'AUC': 0.8385887568359184}\n"
     ]
    },
    {
     "name": "stderr",
     "output_type": "stream",
     "text": [
      "\n"
     ]
    }
   ],
   "source": [
    "#last_layer_train = run_model(train_data_loader, output_hs=True)[0]\n",
    "last_layer_train = torch.load('last_layer_train')\n",
    "score_maha = -get_mahalanobis_score(last_layer, last_layer_train, cov_estimator=\"LW\")\n",
    "labels = test_data[\"label\"]\n",
    "threshold_maha, results = set_threshold(score_maha, labels, fpr_threshold=0.2)\n",
    "pred_maha = score_maha > threshold_maha\n",
    "print(results)"
   ]
  },
  {
   "cell_type": "markdown",
   "id": "b57889f9-fa2f-48bf-980d-e800948aa4f0",
   "metadata": {},
   "source": [
    "Softmax"
   ]
  },
  {
   "cell_type": "code",
   "execution_count": 49,
   "id": "d213f070-7d50-4c3f-bd47-c2e556880104",
   "metadata": {
    "tags": []
   },
   "outputs": [
    {
     "name": "stdout",
     "output_type": "stream",
     "text": [
      "-0.99906915 {'tpr_at_threshold': 0.8007736943907157, 'fpr_at_threshold': 0.19864450540584153, 'AUC': 0.8742019364832736}\n"
     ]
    }
   ],
   "source": [
    "score_softmax = -softmax.amax(1)\n",
    "threshold_softmax, results = set_threshold(score_softmax, labels, fpr_threshold=0.2)\n",
    "pred_softmax = score_softmax > threshold_softmax\n",
    "print(threshold_softmax, results)"
   ]
  },
  {
   "cell_type": "markdown",
   "id": "d8ba4b09-8b3e-42ec-8f94-1c49ffb677e6",
   "metadata": {},
   "source": [
    "Thabut Score"
   ]
  },
  {
   "cell_type": "code",
   "execution_count": 50,
   "id": "c6fb037c-639f-45ad-adf8-8b4fb8030afa",
   "metadata": {
    "tags": []
   },
   "outputs": [
    {
     "name": "stdout",
     "output_type": "stream",
     "text": [
      "-0.998335 {'tpr_at_threshold': 0.8017408123791102, 'fpr_at_threshold': 0.1979990317895756, 'AUC': 0.8743579207384619}\n"
     ]
    }
   ],
   "source": [
    "softmax_sorted = softmax.sort()[0]\n",
    "thabut_score = softmax_sorted[:, -2] - softmax_sorted[:, -1]\n",
    "threshold_thabut, results = set_threshold(thabut_score, labels, fpr_threshold=0.2)\n",
    "pred_thabut = thabut_score > threshold_thabut\n",
    "print(threshold_thabut, results)"
   ]
  },
  {
   "cell_type": "markdown",
   "id": "45d686cd-5b8f-4c15-b8ac-846d43f3a54c",
   "metadata": {},
   "source": [
    "Kullback_Leibler"
   ]
  },
  {
   "cell_type": "code",
   "execution_count": 51,
   "id": "dd481d6a-1614-431b-9571-f0a89e6630dd",
   "metadata": {
    "tags": []
   },
   "outputs": [
    {
     "name": "stdout",
     "output_type": "stream",
     "text": [
      "-1.3782212889203782 {'tpr_at_threshold': 0.7998065764023211, 'fpr_at_threshold': 0.19622397934484428, 'AUC': 0.8742915162356277}\n"
     ]
    }
   ],
   "source": [
    "score_KL = -rel_entr(softmax.detach(), [0.25] * 4).sum(1)\n",
    "threshold_KL, results = set_threshold(score_KL, labels, fpr_threshold=0.2)\n",
    "pred_KL = score_KL > threshold_KL\n",
    "print(threshold_KL, results)"
   ]
  },
  {
   "cell_type": "markdown",
   "id": "e4d4e655-645b-4264-9172-b1b4df503ee3",
   "metadata": {},
   "source": [
    "Wasserstein Distance"
   ]
  },
  {
   "cell_type": "code",
   "execution_count": 52,
   "id": "5e0c0c8a-70d5-49cd-86ce-fefd26a82f36",
   "metadata": {
    "tags": []
   },
   "outputs": [
    {
     "name": "stdout",
     "output_type": "stream",
     "text": [
      "-0.37453458 {'tpr_at_threshold': 0.8007736943907157, 'fpr_at_threshold': 0.19864450540584153, 'AUC': 0.8741773566731765}\n"
     ]
    }
   ],
   "source": [
    "score_Was = torch.Tensor(\n",
    "    [-wasserstein_distance(soft, [0.25] * 4) for soft in softmax.detach()]\n",
    ")\n",
    "threshold_Was, results = set_threshold(score_Was, labels, fpr_threshold=0.2)\n",
    "pred_Was = score_Was > threshold_Was\n",
    "print(threshold_Was, results)"
   ]
  },
  {
   "cell_type": "markdown",
   "id": "c6de1570-2e10-4466-8684-fa9e3a664277",
   "metadata": {},
   "source": [
    "#### ANNEXE"
   ]
  },
  {
   "cell_type": "markdown",
   "id": "1cbb5335-1845-4753-a250-c003902f836d",
   "metadata": {},
   "source": [
    "Saving last layer embeddings"
   ]
  },
  {
   "cell_type": "code",
   "execution_count": 8,
   "id": "b7ff43ad-932b-40c2-af71-6919b35e1940",
   "metadata": {
    "tags": []
   },
   "outputs": [],
   "source": [
    "#train_data_df = pd.DataFrame(train_data)\n",
    "Split_indexes = np.linspace(0,len(train_data),13).astype(int)\n",
    "train_data_loaders = []\n",
    "window = Split_indexes[1]-Split_indexes[0]\n",
    "for split in Split_indexes[:-1]:\n",
    "    train_data_loaders.append(torch.utils.data.DataLoader(\\\n",
    "                    Dataset.from_dict(train_data[split:split+window]), batch_size=32, shuffle=True))\n",
    "for idx,data_loader in enumerate(train_data_loaders):\n",
    "    last_layer_train = run_model(data_loader, output_hs=True)[0]\n",
    "    torch.save(last_layer_train,f'last_layer_train {idx+1}')\n",
    "last_layers = [torch.load(f'last_layer_train {idx+1}') for idx in range(12)]\n",
    "torch.save(torch.cat(last_layers),'last_layer_train')"
   ]
  }
 ],
 "metadata": {
  "kernelspec": {
   "display_name": "env_nlp",
   "language": "python",
   "name": "env_nlp"
  },
  "language_info": {
   "codemirror_mode": {
    "name": "ipython",
    "version": 3
   },
   "file_extension": ".py",
   "mimetype": "text/x-python",
   "name": "python",
   "nbconvert_exporter": "python",
   "pygments_lexer": "ipython3",
   "version": "3.7.0"
  }
 },
 "nbformat": 4,
 "nbformat_minor": 5
}
